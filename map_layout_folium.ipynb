{
 "cells": [
  {
   "cell_type": "markdown",
   "id": "f44aa9fb",
   "metadata": {},
   "source": [
    "# Example Interactive Map with Folium"
   ]
  },
  {
   "cell_type": "markdown",
   "id": "7729b733",
   "metadata": {},
   "source": [
    "## Libraries and settings"
   ]
  },
  {
   "cell_type": "code",
   "execution_count": null,
   "id": "6e6b351d",
   "metadata": {},
   "outputs": [],
   "source": [
    "# Libraries\n",
    "import os\n",
    "import folium\n",
    "import pandas as pd\n",
    "import geopandas as gpd\n",
    "from sqlalchemy import create_engine, text\n",
    "from folium.plugins import MiniMap, MeasureControl, MarkerCluster\n",
    "\n",
    "# Ignore warnings\n",
    "import warnings\n",
    "warnings.filterwarnings(\"ignore\")\n",
    "\n",
    "print(os.getcwd())"
   ]
  },
  {
   "cell_type": "markdown",
   "id": "4a9366da",
   "metadata": {},
   "source": [
    "## Function to build the map"
   ]
  },
  {
   "cell_type": "code",
   "execution_count": null,
   "id": "4404de9c",
   "metadata": {},
   "outputs": [],
   "source": [
    "def build_map():\n",
    "    # Kartenmittelpunkt (Zürich)\n",
    "    center = (47.3769, 8.5417)\n",
    "\n",
    "    # Basis-Karte\n",
    "    m = folium.Map(\n",
    "        location=center,\n",
    "        zoom_start=12,\n",
    "        tiles=\"OpenStreetMap\",\n",
    "        control_scale=True,  # Maßstabsleiste links unten\n",
    "    )\n",
    "\n",
    "    # Zusätzliche Tile-Layer (umschaltbar)\n",
    "    folium.TileLayer(\"CartoDB positron\", name=\"Hell (Positron)\").add_to(m)\n",
    "    folium.TileLayer(\"CartoDB dark_matter\", name=\"Dunkel (Dark Matter)\").add_to(m)\n",
    "    folium.TileLayer(\n",
    "        tiles=\"https://{s}.tile.opentopomap.org/{z}/{x}/{y}.png\",\n",
    "        attr=\"Map data © OpenTopoMap contributors\",\n",
    "        name=\"Topo\",\n",
    "    ).add_to(m)\n",
    "\n",
    "    # Plugins: MiniMap & Messen\n",
    "    MiniMap(toggle_display=True, position=\"bottomleft\").add_to(m)\n",
    "    MeasureControl(primary_length_unit='meters', primary_area_unit='sqmeters').add_to(m)\n",
    "\n",
    "    # Einzelmarker mit Popup/Tooltip\n",
    "    folium.Marker(\n",
    "        location=center,\n",
    "        popup=folium.Popup(\"<b>Zürich</b><br>Startpunkt\", max_width=200),\n",
    "        tooltip=\"Zürich (klicken)\",\n",
    "        icon=folium.Icon(color=\"blue\", icon=\"info-sign\"),\n",
    "    ).add_to(m)\n",
    "\n",
    "    # Marker-Cluster\n",
    "    cluster = MarkerCluster(name=\"Marker-Cluster\").add_to(m)\n",
    "    cluster_points = [\n",
    "        (47.3686, 8.5392, \"Rathaus\"),\n",
    "        (47.3717, 8.5423, \"ETH Zentrum\"),\n",
    "        (47.3642, 8.5490, \"Universitätsspital\"),\n",
    "        (47.3817, 8.5210, \"Museum für Gestaltung\"),\n",
    "        (47.3890, 8.5170, \"Letzigrund\"),\n",
    "    ]\n",
    "    for lat, lon, label in cluster_points:\n",
    "        folium.Marker(\n",
    "            (lat, lon),\n",
    "            popup=f\"<b>{label}</b>\",\n",
    "            tooltip=label,\n",
    "            icon=folium.Icon(color=\"green\", icon=\"ok-sign\"),\n",
    "        ).add_to(cluster)\n",
    "\n",
    "    # Kreis & Kreismarker\n",
    "    folium.Circle(\n",
    "        location=(47.3769, 8.5517),\n",
    "        radius=500,\n",
    "        color=\"#1f77b4\",\n",
    "        fill=True,\n",
    "        fill_opacity=0.2,\n",
    "        popup=\"500 m Radius\",\n",
    "    ).add_to(m)\n",
    "\n",
    "    folium.CircleMarker(\n",
    "        location=(47.3689, 8.5450),\n",
    "        radius=8,\n",
    "        color=\"#d62728\",\n",
    "        fill=True,\n",
    "        fill_opacity=0.7,\n",
    "        popup=\"Kreismarker\",\n",
    "    ).add_to(m)\n",
    "\n",
    "    # Linie (Polyline)\n",
    "    folium.PolyLine(\n",
    "        locations=[(47.372, 8.54), (47.38, 8.53), (47.39, 8.55)],\n",
    "        weight=4,\n",
    "        opacity=0.8,\n",
    "        tooltip=\"Beispiel-Route\",\n",
    "        color=\"#2ca02c\",\n",
    "    ).add_to(m)\n",
    "\n",
    "    # Rechteck (als eigenständiger Layer)\n",
    "    rect = folium.FeatureGroup(name=\"Rechteck\").add_to(m)\n",
    "    folium.Rectangle(\n",
    "        bounds=[(47.36, 8.52), (47.385, 8.56)],\n",
    "        color=\"#9467bd\",\n",
    "        fill=True,\n",
    "        fill_opacity=0.1,\n",
    "        popup=\"Test-Rechteck\",\n",
    "    ).add_to(rect)\n",
    "\n",
    "    # Layer-Control zuletzt hinzufügen\n",
    "    folium.LayerControl(collapsed=False).add_to(m)\n",
    "\n",
    "    return m\n"
   ]
  },
  {
   "cell_type": "markdown",
   "id": "37c3a427",
   "metadata": {},
   "source": [
    "## Example map"
   ]
  },
  {
   "cell_type": "code",
   "execution_count": null,
   "id": "f4a90141",
   "metadata": {},
   "outputs": [],
   "source": [
    "# Karte abspeichern und anzeigen\n",
    "# m.save(\"map.html\")  # Optional: Karte als HTML-Datei speichern\n",
    "m = build_map()\n",
    "m"
   ]
  },
  {
   "cell_type": "markdown",
   "id": "0b25848a",
   "metadata": {},
   "source": [
    "### Jupyter notebook --footer info-- (please always provide this at the end of each notebook)"
   ]
  },
  {
   "cell_type": "code",
   "execution_count": null,
   "id": "9a5b101a",
   "metadata": {},
   "outputs": [],
   "source": [
    "import os\n",
    "import platform\n",
    "import socket\n",
    "from platform import python_version\n",
    "from datetime import datetime\n",
    "\n",
    "print('-----------------------------------')\n",
    "print(os.name.upper())\n",
    "print(platform.system(), '|', platform.release())\n",
    "print('Datetime:', datetime.now().strftime(\"%Y-%m-%d %H:%M:%S\"))\n",
    "print('Python Version:', python_version())\n",
    "print('-----------------------------------')"
   ]
  }
 ],
 "metadata": {
  "kernelspec": {
   "display_name": "gisenv",
   "language": "python",
   "name": "python3"
  },
  "language_info": {
   "codemirror_mode": {
    "name": "ipython",
    "version": 3
   },
   "file_extension": ".py",
   "mimetype": "text/x-python",
   "name": "python",
   "nbconvert_exporter": "python",
   "pygments_lexer": "ipython3",
   "version": "3.11.9"
  }
 },
 "nbformat": 4,
 "nbformat_minor": 5
}
