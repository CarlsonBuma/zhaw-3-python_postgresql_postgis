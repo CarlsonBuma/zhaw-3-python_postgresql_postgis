{
 "cells": [
  {
   "cell_type": "markdown",
   "metadata": {},
   "source": [
    "# Python with PostgreSQL & PostGIS"
   ]
  },
  {
   "cell_type": "markdown",
   "metadata": {},
   "source": [
    "## Libraries and Settings"
   ]
  },
  {
   "cell_type": "code",
   "execution_count": null,
   "metadata": {},
   "outputs": [],
   "source": [
    "# Libraries\n",
    "import os\n",
    "import folium\n",
    "import pandas as pd\n",
    "import geopandas as gpd\n",
    "from sqlalchemy import create_engine, text\n",
    "\n",
    "# Ignore warnings\n",
    "import warnings\n",
    "warnings.filterwarnings(\"ignore\")\n",
    "\n",
    "print(os.getcwd())"
   ]
  },
  {
   "cell_type": "markdown",
   "metadata": {},
   "source": [
    "## Create database connection"
   ]
  },
  {
   "cell_type": "code",
   "execution_count": null,
   "metadata": {},
   "outputs": [],
   "source": [
    "# Set up database connection\n",
    "user = \"pgadmin\"\n",
    "password = \"geheim\"\n",
    "host = \"localhost\"\n",
    "port = \"5432\"\n",
    "database = \"osm_switzerland\"\n",
    "\n",
    "# Create Connection URL\n",
    "db_connection_url = \"postgresql://\" + user + \":\" + password +\\\n",
    "                    \"@\" + host + \":\" + port + \"/\" + database\n",
    "\n",
    "# Create SQLAlchemy Engine\n",
    "engine = create_engine(db_connection_url)\n",
    "\n",
    "# Test database connection\n",
    "with engine.connect() as connection:\n",
    "    result = connection.execute(text('SELECT current_database()'))\n",
    "    print(result.fetchone())\n",
    "\n",
    "# Dispose the engine\n",
    "engine.dispose()"
   ]
  },
  {
   "cell_type": "markdown",
   "metadata": {},
   "source": [
    "## List tables in database"
   ]
  },
  {
   "cell_type": "code",
   "execution_count": null,
   "metadata": {},
   "outputs": [],
   "source": [
    "# Create SQLAlchemy Engine\n",
    "engine = create_engine(db_connection_url)\n",
    "\n",
    "# Open a connection\n",
    "with engine.connect() as connection:\n",
    "\n",
    "    # Execute the query\n",
    "    result = connection.execute(text(\"\"\"SELECT table_name\n",
    "                                        FROM information_schema.tables\n",
    "                                        WHERE table_schema = 'public';\"\"\"))\n",
    "    \n",
    "    # Fetch and print the results\n",
    "    for row in result:\n",
    "        print(row[0])\n",
    "\n",
    "# Dispose the engine\n",
    "engine.dispose()"
   ]
  },
  {
   "cell_type": "markdown",
   "metadata": {},
   "source": [
    "## Show columns and data types of selected table"
   ]
  },
  {
   "cell_type": "code",
   "execution_count": null,
   "metadata": {},
   "outputs": [],
   "source": [
    "# Create SQLAlchemy Engine\n",
    "engine = create_engine(db_connection_url)\n",
    "\n",
    "# Specify your table name\n",
    "table_name = 'planet_osm_polygon'\n",
    "\n",
    "# Query to get column information\n",
    "query = f\"\"\"SELECT column_name, data_type \n",
    "        FROM information_schema.columns \n",
    "        WHERE table_name = '{table_name}'\"\"\"\n",
    "\n",
    "# Execute the query and read the result into a DataFrame\n",
    "df = pd.read_sql(query, engine)\n",
    "\n",
    "# Dispose the engine\n",
    "engine.dispose()\n",
    "\n",
    "# Print the DataFrame\n",
    "df"
   ]
  },
  {
   "cell_type": "markdown",
   "metadata": {},
   "source": [
    "## Query: Select buildings for which full address is available in defined zip code areas"
   ]
  },
  {
   "cell_type": "code",
   "execution_count": null,
   "metadata": {},
   "outputs": [],
   "source": [
    "# Create SQLAlchemy Engine\n",
    "engine = create_engine(db_connection_url)\n",
    "\n",
    "# Define SQL query \n",
    "sql = \"\"\"SELECT\n",
    "                p.osm_id,\n",
    "                p.\"addr:street\",\n",
    "                p.\"addr:housenumber\",\n",
    "                p.\"addr:city\",\n",
    "                p.\"addr:postcode\",\n",
    "                p.building,\n",
    "                st_transform(p.way, 4326) AS geom\n",
    "        FROM\n",
    "                public.planet_osm_polygon AS p\n",
    "        WHERE\n",
    "                p.\"addr:street\" IS NOT NULL\n",
    "                AND p.\"addr:housenumber\" IS NOT NULL\n",
    "                AND p.\"addr:city\" IS NOT NULL\n",
    "                AND p.\"addr:postcode\" IN ('8001', '8002')\"\"\"\n",
    "\n",
    "# Query the database and store the result in a GeoDataFrame\n",
    "gdf = gpd.GeoDataFrame.from_postgis(sql, engine)\n",
    "\n",
    "# Dispose the engine\n",
    "engine.dispose()\n",
    "\n",
    "# Print the GeoDataFrame\n",
    "gdf\n"
   ]
  },
  {
   "cell_type": "markdown",
   "metadata": {},
   "source": [
    "## Show selected features on map\n",
    "\n",
    "<span style=\"color: blue;\">Note the popup field in the map, which has been added to provide additional information about buildings.</span>\n",
    "\n",
    "<span style=\"color: blue;\">Example of alternative background maps (maptiles) are:</span>\n",
    "- <span style=\"color: blue;\">EsriWorldImagery</span>\n",
    "- <span style=\"color: blue;\">EsriWorldTopoMap</span>\n",
    "- <span style=\"color: blue;\">EsriWorldGrayCanvas</span>\n",
    "- <span style=\"color: blue;\">CartoDBDarkMatter</span>\n",
    "- <span style=\"color: blue;\">CartoDBPositron</span>\n"
   ]
  },
  {
   "cell_type": "code",
   "execution_count": null,
   "metadata": {},
   "outputs": [],
   "source": [
    "# Extract the longitude and latitude coordinates to define the center of the map\n",
    "lon = gdf.geometry.apply(lambda polygon: polygon.centroid.x).mean()\n",
    "lat = gdf.geometry.apply(lambda polygon: polygon.centroid.y).mean()\n",
    "\n",
    "# Initialize the map\n",
    "m = folium.Map(location=[lat, lon], \n",
    "               zoom_start=15,\n",
    "               tiles='EsriWorldImagery')\n",
    "\n",
    "# Map settings\n",
    "folium.GeoJson(\n",
    "    gdf,\n",
    "    name='geojson',\n",
    "    weight=0.5,\n",
    "    fill_color='greenyellow',\n",
    "    fillOpacity=0.8,\n",
    "    popup=folium.GeoJsonPopup(fields=['addr:street',\n",
    "                                      'addr:housenumber',\n",
    "                                      'addr:city',\n",
    "                                      'addr:postcode',\n",
    "                                      'building'])\n",
    ").add_to(m)\n",
    "\n",
    "folium.LayerControl().add_to(m)\n",
    "\n",
    "# Plot map\n",
    "m"
   ]
  },
  {
   "cell_type": "markdown",
   "metadata": {},
   "source": [
    "## Query: Select coffee stores within the administrative boundaries of a defined municipality"
   ]
  },
  {
   "cell_type": "code",
   "execution_count": null,
   "metadata": {},
   "outputs": [],
   "source": [
    "# Create SQLAlchemy Engine\n",
    "engine = create_engine(db_connection_url)  \n",
    "\n",
    "# Define SQL query\n",
    "sql = \"\"\"WITH winterthur_boundary AS (\n",
    "            SELECT way\n",
    "            FROM planet_osm_polygon\n",
    "            WHERE boundary = 'administrative'\n",
    "            AND admin_level = '8'\n",
    "            AND name = 'Winterthur'\n",
    "        )\n",
    "        SELECT\n",
    "            h.osm_id,\n",
    "            h.shop,\n",
    "            h.name,\n",
    "            ST_Transform(h.way, 4326) AS geom\n",
    "        FROM planet_osm_point h\n",
    "        WHERE h.shop = 'coffee'\n",
    "        AND ST_Within(ST_Transform(h.way, 4326), (SELECT ST_Transform(way, 4326) FROM winterthur_boundary));\"\"\"\n",
    "\n",
    "# Query the database and store the result in a GeoDataFrame\n",
    "gdf = gpd.GeoDataFrame.from_postgis(sql, engine)\n",
    "\n",
    "# Dispose the engine\n",
    "engine.dispose()\n",
    "\n",
    "# Print the GeoDataFrame\n",
    "gdf\n"
   ]
  },
  {
   "cell_type": "markdown",
   "metadata": {},
   "source": [
    "## Show selected features on map"
   ]
  },
  {
   "cell_type": "code",
   "execution_count": null,
   "metadata": {},
   "outputs": [],
   "source": [
    "# Extract the longitude and latitude coordinates to define the center of the map\n",
    "lon = gdf.geometry.apply(lambda point: point.x).mean()\n",
    "lat = gdf.geometry.apply(lambda point: point.y).mean()\n",
    "\n",
    "# Initialize the map\n",
    "m = folium.Map(location=[lat, lon], \n",
    "               zoom_start=15, \n",
    "               tiles='ESRIWorldImagery')\n",
    "\n",
    "# Map settings\n",
    "folium.GeoJson(\n",
    "    gdf,\n",
    "    name='map',\n",
    "    popup=folium.GeoJsonPopup(fields=['name', 'shop'])\n",
    ").add_to(m)\n",
    "\n",
    "folium.LayerControl().add_to(m)\n",
    "\n",
    "# Plot map\n",
    "m"
   ]
  },
  {
   "cell_type": "markdown",
   "metadata": {},
   "source": [
    "## Query: Select all supermarkets in a distance of 1000m around the central station in the city of Winterthur.\n",
    "\n",
    "<span style=\"color: blue;\">For each supermarket, the distance to the central station in meters is calculated and stored as new column 'distance_meters'.</span>\n",
    "\n",
    "<span style=\"color: blue;\">In addition, a popup field was added to the map, allowing users to view detailed information about each selected feature when they click on it.</span>\n",
    "\n",
    "<span style=\"color: blue;\">Note that WGS84 (World Geodetic System 1984) coordinates in ST_MakePoint(LON, LAT) can be derived from:</span>\n",
    "\n",
    "- <span style=\"color: blue;\">https://tools.retorte.ch/map</span>\n"
   ]
  },
  {
   "cell_type": "code",
   "execution_count": null,
   "metadata": {},
   "outputs": [],
   "source": [
    "# Create SQLAlchemy Engine\n",
    "engine = create_engine(db_connection_url)  \n",
    "\n",
    "# Define SQL query\n",
    "sql = \"\"\"SELECT\n",
    "            p.osm_id,\n",
    "            p.shop,\n",
    "            p.name,\n",
    "            ST_Distance(\n",
    "                ST_Transform(p.way, 4326)::geography,\n",
    "                ST_SetSRID(ST_MakePoint(8.72397, 47.50031), 4326)::geography\n",
    "            ) AS distance_meters,\n",
    "            ST_TRANSFORM(p.way, 4326) AS geom\n",
    "        FROM\n",
    "            planet_osm_point AS p\n",
    "        WHERE\n",
    "            p.shop = 'supermarket'\n",
    "            AND ST_DWithin(\n",
    "                ST_Transform(p.way, 4326)::geography,\n",
    "                ST_SetSRID(ST_MakePoint(8.72397, 47.50031), 4326)::geography,\n",
    "                1000\n",
    "            )\n",
    "        ORDER BY distance_meters;\"\"\"\n",
    "\n",
    "# Query the database and store the result in a GeoDataFrame\n",
    "gdf = gpd.GeoDataFrame.from_postgis(sql, engine)\n",
    "\n",
    "# Dispose the engine\n",
    "engine.dispose()\n",
    "\n",
    "# Print the GeoDataFrame\n",
    "gdf\n"
   ]
  },
  {
   "cell_type": "markdown",
   "metadata": {},
   "source": [
    "## Show selected features on map"
   ]
  },
  {
   "cell_type": "code",
   "execution_count": null,
   "metadata": {},
   "outputs": [],
   "source": [
    "# Extract the longitude and latitude coordinates to define the center of the map\n",
    "lon = gdf.geometry.apply(lambda point: point.x).mean()\n",
    "lat = gdf.geometry.apply(lambda point: point.y).mean()\n",
    "\n",
    "# Initialize the map\n",
    "m = folium.Map(location=[lat, lon], \n",
    "               zoom_start=16, \n",
    "               tiles='ESRIWorldImagery')\n",
    "\n",
    "# Map settings\n",
    "folium.GeoJson(\n",
    "    gdf,\n",
    "    name='map',\n",
    "    popup=folium.GeoJsonPopup(fields=['name', 'distance_meters'])\n",
    ").add_to(m)\n",
    "\n",
    "folium.LayerControl().add_to(m)\n",
    "\n",
    "# Plot map\n",
    "m"
   ]
  },
  {
   "cell_type": "markdown",
   "metadata": {},
   "source": [
    "## Query: Create a query of all 'primary' roads within the administrative boundary of the city of Bern."
   ]
  },
  {
   "cell_type": "code",
   "execution_count": null,
   "metadata": {},
   "outputs": [],
   "source": [
    "# Engine für Datenbankverbindung erstellen\n",
    "engine = create_engine(db_connection_url)  \n",
    "\n",
    "# SQL Abfrage erstellen\n",
    "sql = \"\"\"WITH bern_boundary AS (\n",
    "            SELECT way\n",
    "            FROM planet_osm_polygon\n",
    "            WHERE boundary = 'administrative'\n",
    "            AND admin_level = '8'\n",
    "            AND name = 'Bern'\n",
    "        )\n",
    "        SELECT\n",
    "            p.osm_id,\n",
    "            p.highway,\n",
    "            ST_TRANSFORM(p.way::geometry, 4326) AS geom\n",
    "        FROM planet_osm_line AS p\n",
    "        WHERE\n",
    "            p.highway IN ('primary')\n",
    "            AND ST_Within(\n",
    "                ST_Transform(p.way, 4326),\n",
    "                (SELECT ST_Transform(way, 4326) FROM bern_boundary)\n",
    "            );\"\"\"\n",
    "\n",
    "# Ergebnis in GeoDataFrame abspeichern\n",
    "gdf = gpd.GeoDataFrame.from_postgis(sql, engine)\n",
    "\n",
    "# Datenbankverbindung trennen\n",
    "engine.dispose()\n",
    "\n",
    "# Zeigen des GeoDataFrames\n",
    "gdf"
   ]
  },
  {
   "cell_type": "markdown",
   "metadata": {},
   "source": [
    "## Show selected features on map"
   ]
  },
  {
   "cell_type": "code",
   "execution_count": null,
   "metadata": {},
   "outputs": [],
   "source": [
    "# Extract the longitude and latitude coordinates to define the center of the map\n",
    "lon = gdf.geometry.apply(lambda line: line.centroid.x).mean()\n",
    "lat = gdf.geometry.apply(lambda line: line.centroid.y).mean()\n",
    "\n",
    "# Initialize the map\n",
    "m = folium.Map(location=[lat, lon], \n",
    "               zoom_start=13, \n",
    "               tiles='CartoDB positron')\n",
    "\n",
    "# Map settings\n",
    "folium.GeoJson(\n",
    "    gdf,\n",
    "    name='map',\n",
    ").add_to(m)\n",
    "\n",
    "folium.LayerControl().add_to(m)\n",
    "\n",
    "# Plot map\n",
    "m"
   ]
  },
  {
   "cell_type": "markdown",
   "metadata": {},
   "source": [
    "## Query: Select all roads classified as 'primary' in Switzerland and create buffers around these roads"
   ]
  },
  {
   "cell_type": "code",
   "execution_count": 13,
   "metadata": {},
   "outputs": [],
   "source": [
    "# Create SQLAlchemy Engine\n",
    "engine = create_engine(db_connection_url)\n",
    "\n",
    "# Define SQL query (major roads)\n",
    "sql_a = \"\"\"--Select major roads\n",
    "           SELECT\n",
    "           ST_TRANSFORM(p.way, 4326) AS geom\n",
    "           FROM public.planet_osm_roads AS p\n",
    "           WHERE\n",
    "           highway IN ('primary')\"\"\"\n",
    "\n",
    "# Query the database and store the result in a GeoDataFrame\n",
    "gdf_a = gpd.GeoDataFrame.from_postgis(sql_a, engine, geom_col='geom')\n",
    "\n",
    "# Define SQL query (buffers around major roads)\n",
    "sql_b = \"\"\"--Create buffers around major roads and combine these buffers to one single buffer\n",
    "        SELECT \n",
    "        1 as group_id,\n",
    "        ST_TRANSFORM(ST_UNION(ST_Buffer(p.way::geometry, 200)), 4326) AS combined_buffer_geom\n",
    "        FROM public.planet_osm_roads AS p\n",
    "        WHERE\n",
    "        highway IN ('primary')\"\"\"\n",
    "\n",
    "# Query the database and store the result in a GeoDataFrame\n",
    "gdf_b = gpd.GeoDataFrame.from_postgis(sql_b, engine, geom_col='combined_buffer_geom')\n",
    "\n",
    "# Dispose the engine\n",
    "engine.dispose()"
   ]
  },
  {
   "cell_type": "markdown",
   "metadata": {},
   "source": [
    "## Show selected features on map"
   ]
  },
  {
   "cell_type": "code",
   "execution_count": null,
   "metadata": {},
   "outputs": [],
   "source": [
    "# Extract the longitude and latitude coordinates to define the center of the map\n",
    "# lon = gdf.geometry.apply(lambda line: line.centroid.x).mean()\n",
    "# lat = gdf.geometry.apply(lambda line: line.centroid.y).mean()\n",
    "\n",
    "# Use city of Zürich as the center of the map\n",
    "lon = 8.54104\n",
    "lat = 47.37445\n",
    "\n",
    "# Initialize the map (use grayscale tiles for better contrast)\n",
    "m = folium.Map(location=[lat, lon], \n",
    "               zoom_start=14, \n",
    "               tiles='CartoDB positron')\n",
    "\n",
    "# Add buffer to map\n",
    "buffer_group = folium.FeatureGroup(name='Buffer')\n",
    "folium.Choropleth(\n",
    "    geo_data=gdf_b,\n",
    "    fill_color='greenyellow'\n",
    ").add_to(buffer_group)\n",
    "buffer_group.add_to(m)\n",
    "\n",
    "# Add roads to map\n",
    "roads_group = folium.FeatureGroup(name='Roads')\n",
    "folium.GeoJson(\n",
    "    gdf_a,\n",
    "    style_function=lambda feature: {\n",
    "        'color': 'red',\n",
    "        'weight': 3\n",
    "    }\n",
    ").add_to(roads_group)\n",
    "roads_group.add_to(m)\n",
    "\n",
    "folium.LayerControl().add_to(m)\n",
    "\n",
    "# Plot map\n",
    "m"
   ]
  },
  {
   "cell_type": "markdown",
   "metadata": {},
   "source": [
    "## Query: Select 'primary' roads, create buffers around these roads and select all buildings within buffers"
   ]
  },
  {
   "cell_type": "code",
   "execution_count": null,
   "metadata": {},
   "outputs": [],
   "source": [
    "# Create SQLAlchemy Engine\n",
    "engine = create_engine(db_connection_url)\n",
    "\n",
    "# Define the query\n",
    "sql = \"\"\"WITH buffer AS (\n",
    "                -- Create buffers around major roads and combine these buffers to one single buffer\n",
    "                SELECT \n",
    "                        1 as group_id,\n",
    "                        ST_TRANSFORM(ST_UNION(ST_Buffer(p.way::geometry, 200)), 4326) AS combined_buffer_geom\n",
    "                        FROM public.planet_osm_roads AS p\n",
    "                WHERE\n",
    "                        -- Filter for major roads\n",
    "                        highway IN ('primary')\n",
    "                        )\n",
    "        -- Select all buildings within the buffer\n",
    "        SELECT\n",
    "                p.osm_id,\n",
    "                p.\"addr:street\",\n",
    "                p.\"addr:housenumber\",\n",
    "                p.\"addr:city\",\n",
    "                p.\"addr:postcode\",\n",
    "                p.building,\n",
    "                ST_Transform(p.way, 4326) AS geom\n",
    "                FROM\n",
    "                public.planet_osm_polygon AS p, buffer\n",
    "        WHERE\n",
    "                p.\"addr:city\" IN ('Zürich')\n",
    "                -- Filter for buildings within the buffer\n",
    "                AND ST_Contains(buffer.combined_buffer_geom, ST_Transform(p.way, 4326));\n",
    "        \"\"\"\n",
    "\n",
    "# Query the database and store the result in a GeoDataFrame\n",
    "gdf_c = gpd.GeoDataFrame.from_postgis(sql, engine, geom_col='geom')\n",
    "\n",
    "# Dispose the engine\n",
    "engine.dispose()\n",
    "\n",
    "gdf_c.head()"
   ]
  },
  {
   "cell_type": "markdown",
   "metadata": {},
   "source": [
    "## Show selected features on map"
   ]
  },
  {
   "cell_type": "code",
   "execution_count": null,
   "metadata": {},
   "outputs": [],
   "source": [
    "# Extract the longitude and latitude coordinates to define the center of the map\n",
    "# lon = gdf.geometry.apply(lambda line: line.centroid.x).mean()\n",
    "# lat = gdf.geometry.apply(lambda line: line.centroid.y).mean()\n",
    "\n",
    "# Use city of Zürich as the center of the map\n",
    "lon = 8.54104\n",
    "lat = 47.37445\n",
    "\n",
    "# Initialize the map\n",
    "m = folium.Map(location=[lat, lon], \n",
    "               zoom_start=14, \n",
    "               tiles='CartoDB positron')\n",
    "\n",
    "# Create feature groups\n",
    "buffer_group = folium.FeatureGroup(name='Buffer')\n",
    "roads_group = folium.FeatureGroup(name='Roads')\n",
    "bldgs_group = folium.FeatureGroup(name='Buildings')\n",
    "\n",
    "# Add buffer to map\n",
    "folium.Choropleth(\n",
    "    geo_data=gdf_b,\n",
    "    fill_color='greenyellow'\n",
    ").add_to(buffer_group)\n",
    "\n",
    "# Add roads to map\n",
    "folium.GeoJson(\n",
    "    gdf_a,\n",
    "    style_function=lambda feature: {\n",
    "        'color': 'red',\n",
    "        'weight': 3\n",
    "    }\n",
    ").add_to(roads_group)\n",
    "\n",
    "# Add buildigs in buffer to map\n",
    "folium.Choropleth(\n",
    "    geo_data=gdf_c,\n",
    "    name='map',\n",
    "    fill_color='gray'\n",
    ").add_to(bldgs_group)\n",
    "\n",
    "# Add feature groups to map\n",
    "m.add_child(buffer_group)\n",
    "m.add_child(roads_group)\n",
    "m.add_child(bldgs_group)\n",
    "\n",
    "folium.LayerControl().add_to(m)\n",
    "\n",
    "# Plot map\n",
    "m"
   ]
  },
  {
   "cell_type": "markdown",
   "metadata": {},
   "source": [
    "## Query: Calculate areas of Swiss municipalities and select all municipalities with an area >= 100 km2."
   ]
  },
  {
   "cell_type": "code",
   "execution_count": null,
   "metadata": {},
   "outputs": [],
   "source": [
    "# Create SQLAlchemy Engine\n",
    "engine = create_engine(db_connection_url)\n",
    "\n",
    "# Query the database    \n",
    "sql = \"\"\"WITH area_calculation AS (\n",
    "        SELECT \n",
    "                osm_id,\n",
    "                name,\n",
    "                ST_Area(ST_Transform(way, 32632)) / 1000000 AS area_km2,\n",
    "                ST_Transform(way, 4326) AS geom\n",
    "        FROM planet_osm_polygon\n",
    "        WHERE \n",
    "                boundary = 'administrative' \n",
    "                AND admin_level = '8'\n",
    "        )\n",
    "        SELECT *\n",
    "        FROM area_calculation\n",
    "        WHERE area_km2 >= 100;\"\"\"\n",
    "\n",
    "# Create a GeoDataFrame\n",
    "gdf = gpd.GeoDataFrame.from_postgis(sql, engine, geom_col='geom')\n",
    "\n",
    "# Close the connection\n",
    "engine.dispose()\n",
    "\n",
    "# Show query results\n",
    "gdf\n"
   ]
  },
  {
   "cell_type": "markdown",
   "metadata": {},
   "source": [
    "## Show selected features on map"
   ]
  },
  {
   "cell_type": "code",
   "execution_count": null,
   "metadata": {},
   "outputs": [],
   "source": [
    "# Extract the longitude and latitude coordinates to define the center of the map\n",
    "lon = gdf.geometry.apply(lambda polygon: polygon.centroid.x).mean()\n",
    "lat = gdf.geometry.apply(lambda polygon: polygon.centroid.y).mean()\n",
    "\n",
    "# Initialize the map\n",
    "m = folium.Map(location=[lat, lon], \n",
    "               zoom_start=8, \n",
    "               tiles='CartoDB positron')\n",
    "\n",
    "# Map settings\n",
    "folium.GeoJson(\n",
    "    gdf,\n",
    "    name='geojson',\n",
    "    weight=1,\n",
    "    fill_color='greenyellow',\n",
    "    fillOpacity=0.5,\n",
    "    popup=folium.GeoJsonPopup(fields=['name', 'area_km2'])\n",
    ").add_to(m)\n",
    "\n",
    "# Add layer control\n",
    "folium.LayerControl().add_to(m)\n",
    "\n",
    "# Plot map\n",
    "m"
   ]
  },
  {
   "cell_type": "markdown",
   "metadata": {},
   "source": [
    "### Jupyter notebook --footer info-- (please always provide this at the end of each notebook)"
   ]
  },
  {
   "cell_type": "code",
   "execution_count": null,
   "metadata": {},
   "outputs": [],
   "source": [
    "import os\n",
    "import platform\n",
    "import socket\n",
    "from platform import python_version\n",
    "from datetime import datetime\n",
    "\n",
    "print('-----------------------------------')\n",
    "print(os.name.upper())\n",
    "print(platform.system(), '|', platform.release())\n",
    "print('Datetime:', datetime.now().strftime(\"%Y-%m-%d %H:%M:%S\"))\n",
    "print('Python Version:', python_version())\n",
    "print('-----------------------------------')"
   ]
  }
 ],
 "metadata": {
  "kernelspec": {
   "display_name": "gisenv",
   "language": "python",
   "name": "python3"
  },
  "language_info": {
   "codemirror_mode": {
    "name": "ipython",
    "version": 3
   },
   "file_extension": ".py",
   "mimetype": "text/x-python",
   "name": "python",
   "nbconvert_exporter": "python",
   "pygments_lexer": "ipython3",
   "version": "3.12.1"
  }
 },
 "nbformat": 4,
 "nbformat_minor": 2
}
